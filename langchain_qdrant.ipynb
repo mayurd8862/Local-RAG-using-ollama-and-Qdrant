{
 "cells": [
  {
   "cell_type": "code",
   "execution_count": 1,
   "id": "d153a958-e353-499f-8825-86f9f773b8f6",
   "metadata": {},
   "outputs": [],
   "source": [
    "from uuid import uuid4\n",
    "import os\n",
    "\n",
    "from langchain_community.document_loaders import PyPDFLoader\n",
    "from langchain.text_splitter import RecursiveCharacterTextSplitter\n",
    "from langchain_openai import OpenAIEmbeddings, ChatOpenAI\n",
    "from langchain import hub\n",
    "from langchain.chains.combine_documents import create_stuff_documents_chain\n",
    "from langchain.prompts import ChatPromptTemplate\n",
    "from langchain.callbacks import StdOutCallbackHandler\n",
    "from qdrant_client import QdrantClient\n",
    "from qdrant_client.models import Distance, VectorParams\n",
    "from qdrant_client.models import PointStruct\n",
    "from langchain_community.llms import Ollama\n",
    "from langchain_community.embeddings import OllamaEmbeddings\n",
    "from langchain.chains import create_retrieval_chain\n",
    "from langchain_qdrant import Qdrant"
   ]
  },
  {
   "cell_type": "code",
   "execution_count": 2,
   "id": "2ff6e8c0-417b-4357-9b89-170189767d32",
   "metadata": {},
   "outputs": [
    {
     "name": "stderr",
     "output_type": "stream",
     "text": [
      "C:\\Users\\mayur\\AppData\\Local\\Temp\\ipykernel_2744\\1845413169.py:2: LangChainDeprecationWarning: The class `Ollama` was deprecated in LangChain 0.3.1 and will be removed in 1.0.0. An updated version of the class exists in the :class:`~langchain-ollama package and should be used instead. To use it run `pip install -U :class:`~langchain-ollama` and import as `from :class:`~langchain_ollama import OllamaLLM``.\n",
      "  model = Ollama(model=MODEL)\n",
      "C:\\Users\\mayur\\AppData\\Local\\Temp\\ipykernel_2744\\1845413169.py:3: LangChainDeprecationWarning: The class `OllamaEmbeddings` was deprecated in LangChain 0.3.1 and will be removed in 1.0.0. An updated version of the class exists in the :class:`~langchain-ollama package and should be used instead. To use it run `pip install -U :class:`~langchain-ollama` and import as `from :class:`~langchain_ollama import OllamaEmbeddings``.\n",
      "  embeddings = OllamaEmbeddings(model=MODEL)\n"
     ]
    }
   ],
   "source": [
    "MODEL = \"mistral\"\n",
    "model = Ollama(model=MODEL)\n",
    "embeddings = OllamaEmbeddings(model=MODEL)"
   ]
  },
  {
   "cell_type": "code",
   "execution_count": null,
   "id": "412d693d",
   "metadata": {},
   "outputs": [],
   "source": [
    "client.delete_collection(collection_name= \"ros2\")"
   ]
  },
  {
   "cell_type": "code",
   "execution_count": 3,
   "id": "8684e4ce",
   "metadata": {},
   "outputs": [
    {
     "ename": "QdrantVectorStoreError",
     "evalue": "Existing Qdrant collection is configured for dense vectors with 3072 dimensions. Selected embeddings are 4096-dimensional. If you want to recreate the collection, set `force_recreate` parameter to `True`.",
     "output_type": "error",
     "traceback": [
      "\u001b[1;31m---------------------------------------------------------------------------\u001b[0m",
      "\u001b[1;31mQdrantVectorStoreError\u001b[0m                    Traceback (most recent call last)",
      "Cell \u001b[1;32mIn[3], line 12\u001b[0m\n\u001b[0;32m      5\u001b[0m client \u001b[38;5;241m=\u001b[39m QdrantClient(\u001b[38;5;124m\"\u001b[39m\u001b[38;5;124m:memory:\u001b[39m\u001b[38;5;124m\"\u001b[39m)\n\u001b[0;32m      7\u001b[0m client\u001b[38;5;241m.\u001b[39mcreate_collection(\n\u001b[0;32m      8\u001b[0m     collection_name\u001b[38;5;241m=\u001b[39m\u001b[38;5;124m\"\u001b[39m\u001b[38;5;124mdemo_collection\u001b[39m\u001b[38;5;124m\"\u001b[39m,\n\u001b[0;32m      9\u001b[0m     vectors_config\u001b[38;5;241m=\u001b[39mVectorParams(size\u001b[38;5;241m=\u001b[39m\u001b[38;5;241m3072\u001b[39m, distance\u001b[38;5;241m=\u001b[39mDistance\u001b[38;5;241m.\u001b[39mCOSINE),\n\u001b[0;32m     10\u001b[0m )\n\u001b[1;32m---> 12\u001b[0m vector_store \u001b[38;5;241m=\u001b[39m \u001b[43mQdrantVectorStore\u001b[49m\u001b[43m(\u001b[49m\n\u001b[0;32m     13\u001b[0m \u001b[43m    \u001b[49m\u001b[43mclient\u001b[49m\u001b[38;5;241;43m=\u001b[39;49m\u001b[43mclient\u001b[49m\u001b[43m,\u001b[49m\n\u001b[0;32m     14\u001b[0m \u001b[43m    \u001b[49m\u001b[43mcollection_name\u001b[49m\u001b[38;5;241;43m=\u001b[39;49m\u001b[38;5;124;43m\"\u001b[39;49m\u001b[38;5;124;43mdemo_collection\u001b[39;49m\u001b[38;5;124;43m\"\u001b[39;49m\u001b[43m,\u001b[49m\n\u001b[0;32m     15\u001b[0m \u001b[43m    \u001b[49m\u001b[43membedding\u001b[49m\u001b[38;5;241;43m=\u001b[39;49m\u001b[43membeddings\u001b[49m\u001b[43m,\u001b[49m\n\u001b[0;32m     16\u001b[0m \u001b[43m)\u001b[49m\n",
      "File \u001b[1;32m~\\AppData\\Local\\Packages\\PythonSoftwareFoundation.Python.3.11_qbz5n2kfra8p0\\LocalCache\\local-packages\\Python311\\site-packages\\langchain_qdrant\\qdrant.py:213\u001b[0m, in \u001b[0;36mQdrantVectorStore.__init__\u001b[1;34m(self, client, collection_name, embedding, retrieval_mode, vector_name, content_payload_key, metadata_payload_key, distance, sparse_embedding, sparse_vector_name, validate_embeddings, validate_collection_config)\u001b[0m\n\u001b[0;32m    210\u001b[0m     \u001b[38;5;28mself\u001b[39m\u001b[38;5;241m.\u001b[39m_validate_embeddings(retrieval_mode, embedding, sparse_embedding)\n\u001b[0;32m    212\u001b[0m \u001b[38;5;28;01mif\u001b[39;00m validate_collection_config:\n\u001b[1;32m--> 213\u001b[0m     \u001b[38;5;28;43mself\u001b[39;49m\u001b[38;5;241;43m.\u001b[39;49m\u001b[43m_validate_collection_config\u001b[49m\u001b[43m(\u001b[49m\n\u001b[0;32m    214\u001b[0m \u001b[43m        \u001b[49m\u001b[43mclient\u001b[49m\u001b[43m,\u001b[49m\n\u001b[0;32m    215\u001b[0m \u001b[43m        \u001b[49m\u001b[43mcollection_name\u001b[49m\u001b[43m,\u001b[49m\n\u001b[0;32m    216\u001b[0m \u001b[43m        \u001b[49m\u001b[43mretrieval_mode\u001b[49m\u001b[43m,\u001b[49m\n\u001b[0;32m    217\u001b[0m \u001b[43m        \u001b[49m\u001b[43mvector_name\u001b[49m\u001b[43m,\u001b[49m\n\u001b[0;32m    218\u001b[0m \u001b[43m        \u001b[49m\u001b[43msparse_vector_name\u001b[49m\u001b[43m,\u001b[49m\n\u001b[0;32m    219\u001b[0m \u001b[43m        \u001b[49m\u001b[43mdistance\u001b[49m\u001b[43m,\u001b[49m\n\u001b[0;32m    220\u001b[0m \u001b[43m        \u001b[49m\u001b[43membedding\u001b[49m\u001b[43m,\u001b[49m\n\u001b[0;32m    221\u001b[0m \u001b[43m    \u001b[49m\u001b[43m)\u001b[49m\n\u001b[0;32m    223\u001b[0m \u001b[38;5;28mself\u001b[39m\u001b[38;5;241m.\u001b[39m_client \u001b[38;5;241m=\u001b[39m client\n\u001b[0;32m    224\u001b[0m \u001b[38;5;28mself\u001b[39m\u001b[38;5;241m.\u001b[39mcollection_name \u001b[38;5;241m=\u001b[39m collection_name\n",
      "File \u001b[1;32m~\\AppData\\Local\\Packages\\PythonSoftwareFoundation.Python.3.11_qbz5n2kfra8p0\\LocalCache\\local-packages\\Python311\\site-packages\\langchain_qdrant\\qdrant.py:1050\u001b[0m, in \u001b[0;36mQdrantVectorStore._validate_collection_config\u001b[1;34m(cls, client, collection_name, retrieval_mode, vector_name, sparse_vector_name, distance, embedding)\u001b[0m\n\u001b[0;32m   1038\u001b[0m \u001b[38;5;129m@classmethod\u001b[39m\n\u001b[0;32m   1039\u001b[0m \u001b[38;5;28;01mdef\u001b[39;00m \u001b[38;5;21m_validate_collection_config\u001b[39m(\n\u001b[0;32m   1040\u001b[0m     \u001b[38;5;28mcls\u001b[39m: Type[QdrantVectorStore],\n\u001b[1;32m   (...)\u001b[0m\n\u001b[0;32m   1047\u001b[0m     embedding: Optional[Embeddings],\n\u001b[0;32m   1048\u001b[0m ) \u001b[38;5;241m-\u001b[39m\u001b[38;5;241m>\u001b[39m \u001b[38;5;28;01mNone\u001b[39;00m:\n\u001b[0;32m   1049\u001b[0m     \u001b[38;5;28;01mif\u001b[39;00m retrieval_mode \u001b[38;5;241m==\u001b[39m RetrievalMode\u001b[38;5;241m.\u001b[39mDENSE:\n\u001b[1;32m-> 1050\u001b[0m         \u001b[38;5;28;43mcls\u001b[39;49m\u001b[38;5;241;43m.\u001b[39;49m\u001b[43m_validate_collection_for_dense\u001b[49m\u001b[43m(\u001b[49m\n\u001b[0;32m   1051\u001b[0m \u001b[43m            \u001b[49m\u001b[43mclient\u001b[49m\u001b[43m,\u001b[49m\u001b[43m \u001b[49m\u001b[43mcollection_name\u001b[49m\u001b[43m,\u001b[49m\u001b[43m \u001b[49m\u001b[43mvector_name\u001b[49m\u001b[43m,\u001b[49m\u001b[43m \u001b[49m\u001b[43mdistance\u001b[49m\u001b[43m,\u001b[49m\u001b[43m \u001b[49m\u001b[43membedding\u001b[49m\n\u001b[0;32m   1052\u001b[0m \u001b[43m        \u001b[49m\u001b[43m)\u001b[49m\n\u001b[0;32m   1054\u001b[0m     \u001b[38;5;28;01melif\u001b[39;00m retrieval_mode \u001b[38;5;241m==\u001b[39m RetrievalMode\u001b[38;5;241m.\u001b[39mSPARSE:\n\u001b[0;32m   1055\u001b[0m         \u001b[38;5;28mcls\u001b[39m\u001b[38;5;241m.\u001b[39m_validate_collection_for_sparse(\n\u001b[0;32m   1056\u001b[0m             client, collection_name, sparse_vector_name\n\u001b[0;32m   1057\u001b[0m         )\n",
      "File \u001b[1;32m~\\AppData\\Local\\Packages\\PythonSoftwareFoundation.Python.3.11_qbz5n2kfra8p0\\LocalCache\\local-packages\\Python311\\site-packages\\langchain_qdrant\\qdrant.py:1116\u001b[0m, in \u001b[0;36mQdrantVectorStore._validate_collection_for_dense\u001b[1;34m(cls, client, collection_name, vector_name, distance, dense_embeddings)\u001b[0m\n\u001b[0;32m   1113\u001b[0m     \u001b[38;5;28;01mraise\u001b[39;00m \u001b[38;5;167;01mValueError\u001b[39;00m(\u001b[38;5;124m\"\u001b[39m\u001b[38;5;124mInvalid `embeddings` type.\u001b[39m\u001b[38;5;124m\"\u001b[39m)\n\u001b[0;32m   1115\u001b[0m \u001b[38;5;28;01mif\u001b[39;00m vector_config\u001b[38;5;241m.\u001b[39msize \u001b[38;5;241m!=\u001b[39m vector_size:\n\u001b[1;32m-> 1116\u001b[0m     \u001b[38;5;28;01mraise\u001b[39;00m QdrantVectorStoreError(\n\u001b[0;32m   1117\u001b[0m         \u001b[38;5;124mf\u001b[39m\u001b[38;5;124m\"\u001b[39m\u001b[38;5;124mExisting Qdrant collection is configured for dense vectors with \u001b[39m\u001b[38;5;124m\"\u001b[39m\n\u001b[0;32m   1118\u001b[0m         \u001b[38;5;124mf\u001b[39m\u001b[38;5;124m\"\u001b[39m\u001b[38;5;132;01m{\u001b[39;00mvector_config\u001b[38;5;241m.\u001b[39msize\u001b[38;5;132;01m}\u001b[39;00m\u001b[38;5;124m dimensions. \u001b[39m\u001b[38;5;124m\"\u001b[39m\n\u001b[0;32m   1119\u001b[0m         \u001b[38;5;124mf\u001b[39m\u001b[38;5;124m\"\u001b[39m\u001b[38;5;124mSelected embeddings are \u001b[39m\u001b[38;5;132;01m{\u001b[39;00mvector_size\u001b[38;5;132;01m}\u001b[39;00m\u001b[38;5;124m-dimensional. \u001b[39m\u001b[38;5;124m\"\u001b[39m\n\u001b[0;32m   1120\u001b[0m         \u001b[38;5;124mf\u001b[39m\u001b[38;5;124m\"\u001b[39m\u001b[38;5;124mIf you want to recreate the collection, set `force_recreate` \u001b[39m\u001b[38;5;124m\"\u001b[39m\n\u001b[0;32m   1121\u001b[0m         \u001b[38;5;124mf\u001b[39m\u001b[38;5;124m\"\u001b[39m\u001b[38;5;124mparameter to `True`.\u001b[39m\u001b[38;5;124m\"\u001b[39m\n\u001b[0;32m   1122\u001b[0m     )\n\u001b[0;32m   1124\u001b[0m \u001b[38;5;28;01mif\u001b[39;00m vector_config\u001b[38;5;241m.\u001b[39mdistance \u001b[38;5;241m!=\u001b[39m distance:\n\u001b[0;32m   1125\u001b[0m     \u001b[38;5;28;01mraise\u001b[39;00m QdrantVectorStoreError(\n\u001b[0;32m   1126\u001b[0m         \u001b[38;5;124mf\u001b[39m\u001b[38;5;124m\"\u001b[39m\u001b[38;5;124mExisting Qdrant collection is configured for \u001b[39m\u001b[38;5;124m\"\u001b[39m\n\u001b[0;32m   1127\u001b[0m         \u001b[38;5;124mf\u001b[39m\u001b[38;5;124m\"\u001b[39m\u001b[38;5;132;01m{\u001b[39;00mvector_config\u001b[38;5;241m.\u001b[39mdistance\u001b[38;5;241m.\u001b[39mname\u001b[38;5;132;01m}\u001b[39;00m\u001b[38;5;124m similarity, but requested \u001b[39m\u001b[38;5;124m\"\u001b[39m\n\u001b[1;32m   (...)\u001b[0m\n\u001b[0;32m   1131\u001b[0m         \u001b[38;5;124mf\u001b[39m\u001b[38;5;124m\"\u001b[39m\u001b[38;5;124mparameter to `True`.\u001b[39m\u001b[38;5;124m\"\u001b[39m\n\u001b[0;32m   1132\u001b[0m     )\n",
      "\u001b[1;31mQdrantVectorStoreError\u001b[0m: Existing Qdrant collection is configured for dense vectors with 3072 dimensions. Selected embeddings are 4096-dimensional. If you want to recreate the collection, set `force_recreate` parameter to `True`."
     ]
    }
   ],
   "source": [
    "from langchain_qdrant import QdrantVectorStore\n",
    "from qdrant_client import QdrantClient\n",
    "from qdrant_client.http.models import Distance, VectorParams\n",
    "\n",
    "client = QdrantClient(\":memory:\")\n",
    "\n",
    "client.create_collection(\n",
    "    collection_name=\"demo_collection\",\n",
    "    vectors_config=VectorParams(size=3072, distance=Distance.COSINE),\n",
    ")\n",
    "\n",
    "vector_store = QdrantVectorStore(\n",
    "    client=client,\n",
    "    collection_name=\"demo_collection\",\n",
    "    embedding=embeddings,\n",
    ")"
   ]
  },
  {
   "cell_type": "code",
   "execution_count": null,
   "id": "b370cc3f",
   "metadata": {},
   "outputs": [],
   "source": []
  },
  {
   "cell_type": "code",
   "execution_count": null,
   "id": "2a08d7dd",
   "metadata": {},
   "outputs": [],
   "source": []
  },
  {
   "cell_type": "code",
   "execution_count": 4,
   "id": "908db4ee-19e9-4ba5-bc06-6fe2ef98ee08",
   "metadata": {},
   "outputs": [],
   "source": [
    "##https://arxiv.org/pdf/2404.18208\n",
    "loader = PyPDFLoader(\"./knowledge/ML.pdf\")\n",
    "text_splitter = RecursiveCharacterTextSplitter(chunk_size=512, chunk_overlap=50)\n",
    "document = loader.load_and_split(text_splitter)"
   ]
  },
  {
   "cell_type": "code",
   "execution_count": 5,
   "id": "0a161171-f75d-40b6-9ee5-e3c97563f52a",
   "metadata": {},
   "outputs": [
    {
     "data": {
      "text/plain": [
       "Document(metadata={'source': './knowledge/ML.pdf', 'page': 0}, page_content='1. Standardization \\n2. Normalization \\n3. Evaluation matrix \\n4. Cross validation \\n5. Variance and covariance \\n6. Anomaly detection \\n7. Outliers \\n8. Mathematics for data science \\n9. Numpy \\n10. Pandas')"
      ]
     },
     "execution_count": 5,
     "metadata": {},
     "output_type": "execute_result"
    }
   ],
   "source": [
    "document[0]\n"
   ]
  },
  {
   "cell_type": "code",
   "execution_count": 6,
   "id": "681b1752-e0e2-43f5-819b-a919bc771ed1",
   "metadata": {},
   "outputs": [
    {
     "data": {
      "text/plain": [
       "44"
      ]
     },
     "execution_count": 6,
     "metadata": {},
     "output_type": "execute_result"
    }
   ],
   "source": [
    "len(document)\n"
   ]
  },
  {
   "cell_type": "code",
   "execution_count": 9,
   "id": "2651b693-afc8-4c32-8c67-652021cfee12",
   "metadata": {},
   "outputs": [],
   "source": [
    "from qdrant_client import QdrantClient\n",
    "client = QdrantClient(\":memory:\")"
   ]
  },
  {
   "cell_type": "code",
   "execution_count": 10,
   "id": "450ae3ab-f33b-4363-b217-a0ba92ae9c10",
   "metadata": {},
   "outputs": [
    {
     "data": {
      "text/plain": [
       "True"
      ]
     },
     "execution_count": 10,
     "metadata": {},
     "output_type": "execute_result"
    }
   ],
   "source": [
    "client.create_collection(\n",
    "    collection_name=\"ml\",\n",
    "    vectors_config={\n",
    "        \"content\": VectorParams(size=5120, distance=Distance.COSINE)\n",
    "        }\n",
    "    )"
   ]
  },
  {
   "cell_type": "code",
   "execution_count": 11,
   "id": "9b74704e-e49b-47b6-ad96-f126bb794277",
   "metadata": {},
   "outputs": [],
   "source": [
    "def chunked_metadata(data, client=client, collection_name=\"ml\"):\n",
    "\n",
    "    chunked_metadata = []\n",
    "\n",
    "    for item in data:\n",
    "\n",
    "      id = str(uuid4())\n",
    "      content = item.page_content\n",
    "      source = item.metadata[\"source\"]\n",
    "      page = item.metadata[\"page\"]\n",
    "\n",
    "      content_vector = embeddings.embed_documents([content])[0]\n",
    "      vector_dict = {\"content\": content_vector}\n",
    "\n",
    "      payload = {\n",
    "           \"page_content\": content,\n",
    "           \"metadata\": {\n",
    "                        \"id\": id,\n",
    "                        \"page_content\": content,\n",
    "                        \"source\": source,\n",
    "                        \"page\": page,\n",
    "                        }\n",
    "            }\n",
    "\n",
    "\n",
    "      metadata = PointStruct(id=id, vector=vector_dict, payload=payload)\n",
    "      chunked_metadata.append(metadata)\n",
    "\n",
    "    client.upsert(\n",
    "                  collection_name=collection_name,\n",
    "                  wait=True,\n",
    "                  points=chunked_metadata)"
   ]
  },
  {
   "cell_type": "code",
   "execution_count": 16,
   "id": "8be1b0f5-db37-4ada-bfb0-3c3008bd0e30",
   "metadata": {},
   "outputs": [
    {
     "ename": "ValueError",
     "evalue": "could not broadcast input array from shape (4096,) into shape (5120,)",
     "output_type": "error",
     "traceback": [
      "\u001b[1;31m---------------------------------------------------------------------------\u001b[0m",
      "\u001b[1;31mValueError\u001b[0m                                Traceback (most recent call last)",
      "Cell \u001b[1;32mIn[16], line 1\u001b[0m\n\u001b[1;32m----> 1\u001b[0m \u001b[43mchunked_metadata\u001b[49m\u001b[43m(\u001b[49m\u001b[43mdocument\u001b[49m\u001b[43m[\u001b[49m\u001b[43m:\u001b[49m\u001b[38;5;241;43m5\u001b[39;49m\u001b[43m]\u001b[49m\u001b[43m)\u001b[49m\n",
      "Cell \u001b[1;32mIn[11], line 29\u001b[0m, in \u001b[0;36mchunked_metadata\u001b[1;34m(data, client, collection_name)\u001b[0m\n\u001b[0;32m     26\u001b[0m   metadata \u001b[38;5;241m=\u001b[39m PointStruct(\u001b[38;5;28mid\u001b[39m\u001b[38;5;241m=\u001b[39m\u001b[38;5;28mid\u001b[39m, vector\u001b[38;5;241m=\u001b[39mvector_dict, payload\u001b[38;5;241m=\u001b[39mpayload)\n\u001b[0;32m     27\u001b[0m   chunked_metadata\u001b[38;5;241m.\u001b[39mappend(metadata)\n\u001b[1;32m---> 29\u001b[0m \u001b[43mclient\u001b[49m\u001b[38;5;241;43m.\u001b[39;49m\u001b[43mupsert\u001b[49m\u001b[43m(\u001b[49m\n\u001b[0;32m     30\u001b[0m \u001b[43m              \u001b[49m\u001b[43mcollection_name\u001b[49m\u001b[38;5;241;43m=\u001b[39;49m\u001b[43mcollection_name\u001b[49m\u001b[43m,\u001b[49m\n\u001b[0;32m     31\u001b[0m \u001b[43m              \u001b[49m\u001b[43mwait\u001b[49m\u001b[38;5;241;43m=\u001b[39;49m\u001b[38;5;28;43;01mTrue\u001b[39;49;00m\u001b[43m,\u001b[49m\n\u001b[0;32m     32\u001b[0m \u001b[43m              \u001b[49m\u001b[43mpoints\u001b[49m\u001b[38;5;241;43m=\u001b[39;49m\u001b[43mchunked_metadata\u001b[49m\u001b[43m)\u001b[49m\n",
      "File \u001b[1;32m~\\AppData\\Local\\Packages\\PythonSoftwareFoundation.Python.3.11_qbz5n2kfra8p0\\LocalCache\\local-packages\\Python311\\site-packages\\qdrant_client\\qdrant_client.py:1508\u001b[0m, in \u001b[0;36mQdrantClient.upsert\u001b[1;34m(self, collection_name, points, wait, ordering, shard_key_selector, **kwargs)\u001b[0m\n\u001b[0;32m   1480\u001b[0m \u001b[38;5;250m\u001b[39m\u001b[38;5;124;03m\"\"\"\u001b[39;00m\n\u001b[0;32m   1481\u001b[0m \u001b[38;5;124;03mUpdate or insert a new point into the collection.\u001b[39;00m\n\u001b[0;32m   1482\u001b[0m \n\u001b[1;32m   (...)\u001b[0m\n\u001b[0;32m   1504\u001b[0m \u001b[38;5;124;03m    Operation Result(UpdateResult)\u001b[39;00m\n\u001b[0;32m   1505\u001b[0m \u001b[38;5;124;03m\"\"\"\u001b[39;00m\n\u001b[0;32m   1506\u001b[0m \u001b[38;5;28;01massert\u001b[39;00m \u001b[38;5;28mlen\u001b[39m(kwargs) \u001b[38;5;241m==\u001b[39m \u001b[38;5;241m0\u001b[39m, \u001b[38;5;124mf\u001b[39m\u001b[38;5;124m\"\u001b[39m\u001b[38;5;124mUnknown arguments: \u001b[39m\u001b[38;5;132;01m{\u001b[39;00m\u001b[38;5;28mlist\u001b[39m(kwargs\u001b[38;5;241m.\u001b[39mkeys())\u001b[38;5;132;01m}\u001b[39;00m\u001b[38;5;124m\"\u001b[39m\n\u001b[1;32m-> 1508\u001b[0m \u001b[38;5;28;01mreturn\u001b[39;00m \u001b[38;5;28;43mself\u001b[39;49m\u001b[38;5;241;43m.\u001b[39;49m\u001b[43m_client\u001b[49m\u001b[38;5;241;43m.\u001b[39;49m\u001b[43mupsert\u001b[49m\u001b[43m(\u001b[49m\n\u001b[0;32m   1509\u001b[0m \u001b[43m    \u001b[49m\u001b[43mcollection_name\u001b[49m\u001b[38;5;241;43m=\u001b[39;49m\u001b[43mcollection_name\u001b[49m\u001b[43m,\u001b[49m\n\u001b[0;32m   1510\u001b[0m \u001b[43m    \u001b[49m\u001b[43mpoints\u001b[49m\u001b[38;5;241;43m=\u001b[39;49m\u001b[43mpoints\u001b[49m\u001b[43m,\u001b[49m\n\u001b[0;32m   1511\u001b[0m \u001b[43m    \u001b[49m\u001b[43mwait\u001b[49m\u001b[38;5;241;43m=\u001b[39;49m\u001b[43mwait\u001b[49m\u001b[43m,\u001b[49m\n\u001b[0;32m   1512\u001b[0m \u001b[43m    \u001b[49m\u001b[43mordering\u001b[49m\u001b[38;5;241;43m=\u001b[39;49m\u001b[43mordering\u001b[49m\u001b[43m,\u001b[49m\n\u001b[0;32m   1513\u001b[0m \u001b[43m    \u001b[49m\u001b[43mshard_key_selector\u001b[49m\u001b[38;5;241;43m=\u001b[39;49m\u001b[43mshard_key_selector\u001b[49m\u001b[43m,\u001b[49m\n\u001b[0;32m   1514\u001b[0m \u001b[43m    \u001b[49m\u001b[38;5;241;43m*\u001b[39;49m\u001b[38;5;241;43m*\u001b[39;49m\u001b[43mkwargs\u001b[49m\u001b[43m,\u001b[49m\n\u001b[0;32m   1515\u001b[0m \u001b[43m\u001b[49m\u001b[43m)\u001b[49m\n",
      "File \u001b[1;32m~\\AppData\\Local\\Packages\\PythonSoftwareFoundation.Python.3.11_qbz5n2kfra8p0\\LocalCache\\local-packages\\Python311\\site-packages\\qdrant_client\\local\\qdrant_local.py:770\u001b[0m, in \u001b[0;36mQdrantLocal.upsert\u001b[1;34m(self, collection_name, points, **kwargs)\u001b[0m\n\u001b[0;32m    766\u001b[0m \u001b[38;5;28;01mdef\u001b[39;00m \u001b[38;5;21mupsert\u001b[39m(\n\u001b[0;32m    767\u001b[0m     \u001b[38;5;28mself\u001b[39m, collection_name: \u001b[38;5;28mstr\u001b[39m, points: types\u001b[38;5;241m.\u001b[39mPoints, \u001b[38;5;241m*\u001b[39m\u001b[38;5;241m*\u001b[39mkwargs: Any\n\u001b[0;32m    768\u001b[0m ) \u001b[38;5;241m-\u001b[39m\u001b[38;5;241m>\u001b[39m types\u001b[38;5;241m.\u001b[39mUpdateResult:\n\u001b[0;32m    769\u001b[0m     collection \u001b[38;5;241m=\u001b[39m \u001b[38;5;28mself\u001b[39m\u001b[38;5;241m.\u001b[39m_get_collection(collection_name)\n\u001b[1;32m--> 770\u001b[0m     \u001b[43mcollection\u001b[49m\u001b[38;5;241;43m.\u001b[39;49m\u001b[43mupsert\u001b[49m\u001b[43m(\u001b[49m\u001b[43mpoints\u001b[49m\u001b[43m)\u001b[49m\n\u001b[0;32m    771\u001b[0m     \u001b[38;5;28;01mreturn\u001b[39;00m \u001b[38;5;28mself\u001b[39m\u001b[38;5;241m.\u001b[39m_default_update_result()\n",
      "File \u001b[1;32m~\\AppData\\Local\\Packages\\PythonSoftwareFoundation.Python.3.11_qbz5n2kfra8p0\\LocalCache\\local-packages\\Python311\\site-packages\\qdrant_client\\local\\local_collection.py:2165\u001b[0m, in \u001b[0;36mLocalCollection.upsert\u001b[1;34m(self, points)\u001b[0m\n\u001b[0;32m   2163\u001b[0m \u001b[38;5;28;01mif\u001b[39;00m \u001b[38;5;28misinstance\u001b[39m(points, \u001b[38;5;28mlist\u001b[39m):\n\u001b[0;32m   2164\u001b[0m     \u001b[38;5;28;01mfor\u001b[39;00m point \u001b[38;5;129;01min\u001b[39;00m points:\n\u001b[1;32m-> 2165\u001b[0m         \u001b[38;5;28;43mself\u001b[39;49m\u001b[38;5;241;43m.\u001b[39;49m\u001b[43m_upsert_point\u001b[49m\u001b[43m(\u001b[49m\u001b[43mpoint\u001b[49m\u001b[43m)\u001b[49m\n\u001b[0;32m   2166\u001b[0m \u001b[38;5;28;01melif\u001b[39;00m \u001b[38;5;28misinstance\u001b[39m(points, models\u001b[38;5;241m.\u001b[39mBatch):\n\u001b[0;32m   2167\u001b[0m     batch \u001b[38;5;241m=\u001b[39m points\n",
      "File \u001b[1;32m~\\AppData\\Local\\Packages\\PythonSoftwareFoundation.Python.3.11_qbz5n2kfra8p0\\LocalCache\\local-packages\\Python311\\site-packages\\qdrant_client\\local\\local_collection.py:2157\u001b[0m, in \u001b[0;36mLocalCollection._upsert_point\u001b[1;34m(self, point)\u001b[0m\n\u001b[0;32m   2155\u001b[0m     \u001b[38;5;28mself\u001b[39m\u001b[38;5;241m.\u001b[39m_update_point(point)\n\u001b[0;32m   2156\u001b[0m \u001b[38;5;28;01melse\u001b[39;00m:\n\u001b[1;32m-> 2157\u001b[0m     \u001b[38;5;28;43mself\u001b[39;49m\u001b[38;5;241;43m.\u001b[39;49m\u001b[43m_add_point\u001b[49m\u001b[43m(\u001b[49m\u001b[43mpoint\u001b[49m\u001b[43m)\u001b[49m\n\u001b[0;32m   2159\u001b[0m \u001b[38;5;28;01mif\u001b[39;00m \u001b[38;5;28mself\u001b[39m\u001b[38;5;241m.\u001b[39mstorage \u001b[38;5;129;01mis\u001b[39;00m \u001b[38;5;129;01mnot\u001b[39;00m \u001b[38;5;28;01mNone\u001b[39;00m:\n\u001b[0;32m   2160\u001b[0m     \u001b[38;5;28mself\u001b[39m\u001b[38;5;241m.\u001b[39mstorage\u001b[38;5;241m.\u001b[39mpersist(point)\n",
      "File \u001b[1;32m~\\AppData\\Local\\Packages\\PythonSoftwareFoundation.Python.3.11_qbz5n2kfra8p0\\LocalCache\\local-packages\\Python311\\site-packages\\qdrant_client\\local\\local_collection.py:2065\u001b[0m, in \u001b[0;36mLocalCollection._add_point\u001b[1;34m(self, point)\u001b[0m\n\u001b[0;32m   2063\u001b[0m     norm \u001b[38;5;241m=\u001b[39m np\u001b[38;5;241m.\u001b[39mlinalg\u001b[38;5;241m.\u001b[39mnorm(vector_np)\n\u001b[0;32m   2064\u001b[0m     vector_np \u001b[38;5;241m=\u001b[39m vector_np \u001b[38;5;241m/\u001b[39m norm \u001b[38;5;28;01mif\u001b[39;00m norm \u001b[38;5;241m>\u001b[39m EPSILON \u001b[38;5;28;01melse\u001b[39;00m vector_np\n\u001b[1;32m-> 2065\u001b[0m \u001b[43mnamed_vectors\u001b[49m\u001b[43m[\u001b[49m\u001b[43midx\u001b[49m\u001b[43m]\u001b[49m \u001b[38;5;241m=\u001b[39m vector_np\n\u001b[0;32m   2066\u001b[0m \u001b[38;5;28mself\u001b[39m\u001b[38;5;241m.\u001b[39mvectors[vector_name] \u001b[38;5;241m=\u001b[39m named_vectors\n\u001b[0;32m   2067\u001b[0m \u001b[38;5;28mself\u001b[39m\u001b[38;5;241m.\u001b[39mdeleted_per_vector[vector_name] \u001b[38;5;241m=\u001b[39m np\u001b[38;5;241m.\u001b[39mappend(\n\u001b[0;32m   2068\u001b[0m     \u001b[38;5;28mself\u001b[39m\u001b[38;5;241m.\u001b[39mdeleted_per_vector[vector_name], \u001b[38;5;241m0\u001b[39m\n\u001b[0;32m   2069\u001b[0m )\n",
      "\u001b[1;31mValueError\u001b[0m: could not broadcast input array from shape (4096,) into shape (5120,)"
     ]
    }
   ],
   "source": [
    "chunked_metadata(document[:5])\n"
   ]
  },
  {
   "cell_type": "code",
   "execution_count": 13,
   "id": "72b4f27e-5f34-44e5-8e38-55969832d682",
   "metadata": {},
   "outputs": [
    {
     "data": {
      "text/plain": [
       "CollectionsResponse(collections=[CollectionDescription(name='ml')])"
      ]
     },
     "execution_count": 13,
     "metadata": {},
     "output_type": "execute_result"
    }
   ],
   "source": [
    "client.get_collections()\n"
   ]
  },
  {
   "cell_type": "code",
   "execution_count": 14,
   "id": "a6999fc8-8325-41bd-be90-7bd78699d932",
   "metadata": {},
   "outputs": [
    {
     "name": "stdout",
     "output_type": "stream",
     "text": [
      "Points: 1 \n"
     ]
    }
   ],
   "source": [
    "ros_collection = client.get_collection(\"ml\")\n",
    "\n",
    "print(f\"Points: {ros_collection.points_count} \")"
   ]
  },
  {
   "cell_type": "code",
   "execution_count": 15,
   "id": "85e49dbc-78eb-4982-945c-379f2b9c689c",
   "metadata": {},
   "outputs": [
    {
     "ename": "ValueError",
     "evalue": "shapes (0,5120) and (4096,) not aligned: 5120 (dim 1) != 4096 (dim 0)",
     "output_type": "error",
     "traceback": [
      "\u001b[1;31m---------------------------------------------------------------------------\u001b[0m",
      "\u001b[1;31mValueError\u001b[0m                                Traceback (most recent call last)",
      "Cell \u001b[1;32mIn[15], line 1\u001b[0m\n\u001b[1;32m----> 1\u001b[0m \u001b[43mclient\u001b[49m\u001b[38;5;241;43m.\u001b[39;49m\u001b[43msearch\u001b[49m\u001b[43m(\u001b[49m\n\u001b[0;32m      2\u001b[0m \u001b[43m    \u001b[49m\u001b[43mcollection_name\u001b[49m\u001b[38;5;241;43m=\u001b[39;49m\u001b[38;5;124;43m\"\u001b[39;49m\u001b[38;5;124;43mml\u001b[39;49m\u001b[38;5;124;43m\"\u001b[39;49m\u001b[43m,\u001b[49m\n\u001b[0;32m      3\u001b[0m \u001b[43m    \u001b[49m\u001b[43mquery_vector\u001b[49m\u001b[38;5;241;43m=\u001b[39;49m\u001b[43m(\u001b[49m\u001b[38;5;124;43m\"\u001b[39;49m\u001b[38;5;124;43mcontent\u001b[39;49m\u001b[38;5;124;43m\"\u001b[39;49m\u001b[43m,\u001b[49m\u001b[43m \u001b[49m\u001b[43membeddings\u001b[49m\u001b[38;5;241;43m.\u001b[39;49m\u001b[43membed_documents\u001b[49m\u001b[43m(\u001b[49m\u001b[43m[\u001b[49m\u001b[38;5;124;43m\"\u001b[39;49m\u001b[38;5;124;43mFPGA Platforms\u001b[39;49m\u001b[38;5;124;43m\"\u001b[39;49m\u001b[43m]\u001b[49m\u001b[43m)\u001b[49m\u001b[43m[\u001b[49m\u001b[38;5;241;43m0\u001b[39;49m\u001b[43m]\u001b[49m\u001b[43m)\u001b[49m\u001b[43m,\u001b[49m\n\u001b[0;32m      4\u001b[0m \u001b[43m    \u001b[49m\u001b[43mwith_payload\u001b[49m\u001b[38;5;241;43m=\u001b[39;49m\u001b[43m[\u001b[49m\u001b[38;5;124;43m\"\u001b[39;49m\u001b[38;5;124;43mpage_content\u001b[39;49m\u001b[38;5;124;43m\"\u001b[39;49m\u001b[43m,\u001b[49m\u001b[43m \u001b[49m\u001b[38;5;124;43m\"\u001b[39;49m\u001b[38;5;124;43msource\u001b[39;49m\u001b[38;5;124;43m\"\u001b[39;49m\u001b[43m]\u001b[49m\u001b[43m,\u001b[49m\n\u001b[0;32m      5\u001b[0m \u001b[43m    \u001b[49m\u001b[43mlimit\u001b[49m\u001b[38;5;241;43m=\u001b[39;49m\u001b[38;5;241;43m5\u001b[39;49m\n\u001b[0;32m      6\u001b[0m \u001b[43m)\u001b[49m\n",
      "File \u001b[1;32m~\\AppData\\Local\\Packages\\PythonSoftwareFoundation.Python.3.11_qbz5n2kfra8p0\\LocalCache\\local-packages\\Python311\\site-packages\\qdrant_client\\qdrant_client.py:387\u001b[0m, in \u001b[0;36mQdrantClient.search\u001b[1;34m(self, collection_name, query_vector, query_filter, search_params, limit, offset, with_payload, with_vectors, score_threshold, append_payload, consistency, shard_key_selector, timeout, **kwargs)\u001b[0m\n\u001b[0;32m    316\u001b[0m \u001b[38;5;250m\u001b[39m\u001b[38;5;124;03m\"\"\"Search for closest vectors in collection taking into account filtering conditions\u001b[39;00m\n\u001b[0;32m    317\u001b[0m \n\u001b[0;32m    318\u001b[0m \u001b[38;5;124;03mArgs:\u001b[39;00m\n\u001b[1;32m   (...)\u001b[0m\n\u001b[0;32m    383\u001b[0m \u001b[38;5;124;03m    List of found close points with similarity scores.\u001b[39;00m\n\u001b[0;32m    384\u001b[0m \u001b[38;5;124;03m\"\"\"\u001b[39;00m\n\u001b[0;32m    385\u001b[0m \u001b[38;5;28;01massert\u001b[39;00m \u001b[38;5;28mlen\u001b[39m(kwargs) \u001b[38;5;241m==\u001b[39m \u001b[38;5;241m0\u001b[39m, \u001b[38;5;124mf\u001b[39m\u001b[38;5;124m\"\u001b[39m\u001b[38;5;124mUnknown arguments: \u001b[39m\u001b[38;5;132;01m{\u001b[39;00m\u001b[38;5;28mlist\u001b[39m(kwargs\u001b[38;5;241m.\u001b[39mkeys())\u001b[38;5;132;01m}\u001b[39;00m\u001b[38;5;124m\"\u001b[39m\n\u001b[1;32m--> 387\u001b[0m \u001b[38;5;28;01mreturn\u001b[39;00m \u001b[38;5;28;43mself\u001b[39;49m\u001b[38;5;241;43m.\u001b[39;49m\u001b[43m_client\u001b[49m\u001b[38;5;241;43m.\u001b[39;49m\u001b[43msearch\u001b[49m\u001b[43m(\u001b[49m\n\u001b[0;32m    388\u001b[0m \u001b[43m    \u001b[49m\u001b[43mcollection_name\u001b[49m\u001b[38;5;241;43m=\u001b[39;49m\u001b[43mcollection_name\u001b[49m\u001b[43m,\u001b[49m\n\u001b[0;32m    389\u001b[0m \u001b[43m    \u001b[49m\u001b[43mquery_vector\u001b[49m\u001b[38;5;241;43m=\u001b[39;49m\u001b[43mquery_vector\u001b[49m\u001b[43m,\u001b[49m\n\u001b[0;32m    390\u001b[0m \u001b[43m    \u001b[49m\u001b[43mquery_filter\u001b[49m\u001b[38;5;241;43m=\u001b[39;49m\u001b[43mquery_filter\u001b[49m\u001b[43m,\u001b[49m\n\u001b[0;32m    391\u001b[0m \u001b[43m    \u001b[49m\u001b[43msearch_params\u001b[49m\u001b[38;5;241;43m=\u001b[39;49m\u001b[43msearch_params\u001b[49m\u001b[43m,\u001b[49m\n\u001b[0;32m    392\u001b[0m \u001b[43m    \u001b[49m\u001b[43mlimit\u001b[49m\u001b[38;5;241;43m=\u001b[39;49m\u001b[43mlimit\u001b[49m\u001b[43m,\u001b[49m\n\u001b[0;32m    393\u001b[0m \u001b[43m    \u001b[49m\u001b[43moffset\u001b[49m\u001b[38;5;241;43m=\u001b[39;49m\u001b[43moffset\u001b[49m\u001b[43m,\u001b[49m\n\u001b[0;32m    394\u001b[0m \u001b[43m    \u001b[49m\u001b[43mwith_payload\u001b[49m\u001b[38;5;241;43m=\u001b[39;49m\u001b[43mwith_payload\u001b[49m\u001b[43m,\u001b[49m\n\u001b[0;32m    395\u001b[0m \u001b[43m    \u001b[49m\u001b[43mwith_vectors\u001b[49m\u001b[38;5;241;43m=\u001b[39;49m\u001b[43mwith_vectors\u001b[49m\u001b[43m,\u001b[49m\n\u001b[0;32m    396\u001b[0m \u001b[43m    \u001b[49m\u001b[43mscore_threshold\u001b[49m\u001b[38;5;241;43m=\u001b[39;49m\u001b[43mscore_threshold\u001b[49m\u001b[43m,\u001b[49m\n\u001b[0;32m    397\u001b[0m \u001b[43m    \u001b[49m\u001b[43mappend_payload\u001b[49m\u001b[38;5;241;43m=\u001b[39;49m\u001b[43mappend_payload\u001b[49m\u001b[43m,\u001b[49m\n\u001b[0;32m    398\u001b[0m \u001b[43m    \u001b[49m\u001b[43mconsistency\u001b[49m\u001b[38;5;241;43m=\u001b[39;49m\u001b[43mconsistency\u001b[49m\u001b[43m,\u001b[49m\n\u001b[0;32m    399\u001b[0m \u001b[43m    \u001b[49m\u001b[43mshard_key_selector\u001b[49m\u001b[38;5;241;43m=\u001b[39;49m\u001b[43mshard_key_selector\u001b[49m\u001b[43m,\u001b[49m\n\u001b[0;32m    400\u001b[0m \u001b[43m    \u001b[49m\u001b[43mtimeout\u001b[49m\u001b[38;5;241;43m=\u001b[39;49m\u001b[43mtimeout\u001b[49m\u001b[43m,\u001b[49m\n\u001b[0;32m    401\u001b[0m \u001b[43m    \u001b[49m\u001b[38;5;241;43m*\u001b[39;49m\u001b[38;5;241;43m*\u001b[39;49m\u001b[43mkwargs\u001b[49m\u001b[43m,\u001b[49m\n\u001b[0;32m    402\u001b[0m \u001b[43m\u001b[49m\u001b[43m)\u001b[49m\n",
      "File \u001b[1;32m~\\AppData\\Local\\Packages\\PythonSoftwareFoundation.Python.3.11_qbz5n2kfra8p0\\LocalCache\\local-packages\\Python311\\site-packages\\qdrant_client\\local\\qdrant_local.py:204\u001b[0m, in \u001b[0;36mQdrantLocal.search\u001b[1;34m(self, collection_name, query_vector, query_filter, search_params, limit, offset, with_payload, with_vectors, score_threshold, **kwargs)\u001b[0m\n\u001b[0;32m    184\u001b[0m \u001b[38;5;28;01mdef\u001b[39;00m \u001b[38;5;21msearch\u001b[39m(\n\u001b[0;32m    185\u001b[0m     \u001b[38;5;28mself\u001b[39m,\n\u001b[0;32m    186\u001b[0m     collection_name: \u001b[38;5;28mstr\u001b[39m,\n\u001b[1;32m   (...)\u001b[0m\n\u001b[0;32m    201\u001b[0m     \u001b[38;5;241m*\u001b[39m\u001b[38;5;241m*\u001b[39mkwargs: Any,\n\u001b[0;32m    202\u001b[0m ) \u001b[38;5;241m-\u001b[39m\u001b[38;5;241m>\u001b[39m List[types\u001b[38;5;241m.\u001b[39mScoredPoint]:\n\u001b[0;32m    203\u001b[0m     collection \u001b[38;5;241m=\u001b[39m \u001b[38;5;28mself\u001b[39m\u001b[38;5;241m.\u001b[39m_get_collection(collection_name)\n\u001b[1;32m--> 204\u001b[0m     \u001b[38;5;28;01mreturn\u001b[39;00m \u001b[43mcollection\u001b[49m\u001b[38;5;241;43m.\u001b[39;49m\u001b[43msearch\u001b[49m\u001b[43m(\u001b[49m\n\u001b[0;32m    205\u001b[0m \u001b[43m        \u001b[49m\u001b[43mquery_vector\u001b[49m\u001b[38;5;241;43m=\u001b[39;49m\u001b[43mquery_vector\u001b[49m\u001b[43m,\u001b[49m\n\u001b[0;32m    206\u001b[0m \u001b[43m        \u001b[49m\u001b[43mquery_filter\u001b[49m\u001b[38;5;241;43m=\u001b[39;49m\u001b[43mquery_filter\u001b[49m\u001b[43m,\u001b[49m\n\u001b[0;32m    207\u001b[0m \u001b[43m        \u001b[49m\u001b[43mlimit\u001b[49m\u001b[38;5;241;43m=\u001b[39;49m\u001b[43mlimit\u001b[49m\u001b[43m,\u001b[49m\n\u001b[0;32m    208\u001b[0m \u001b[43m        \u001b[49m\u001b[43moffset\u001b[49m\u001b[38;5;241;43m=\u001b[39;49m\u001b[43moffset\u001b[49m\u001b[43m,\u001b[49m\n\u001b[0;32m    209\u001b[0m \u001b[43m        \u001b[49m\u001b[43mwith_payload\u001b[49m\u001b[38;5;241;43m=\u001b[39;49m\u001b[43mwith_payload\u001b[49m\u001b[43m,\u001b[49m\n\u001b[0;32m    210\u001b[0m \u001b[43m        \u001b[49m\u001b[43mwith_vectors\u001b[49m\u001b[38;5;241;43m=\u001b[39;49m\u001b[43mwith_vectors\u001b[49m\u001b[43m,\u001b[49m\n\u001b[0;32m    211\u001b[0m \u001b[43m        \u001b[49m\u001b[43mscore_threshold\u001b[49m\u001b[38;5;241;43m=\u001b[39;49m\u001b[43mscore_threshold\u001b[49m\u001b[43m,\u001b[49m\n\u001b[0;32m    212\u001b[0m \u001b[43m    \u001b[49m\u001b[43m)\u001b[49m\n",
      "File \u001b[1;32m~\\AppData\\Local\\Packages\\PythonSoftwareFoundation.Python.3.11_qbz5n2kfra8p0\\LocalCache\\local-packages\\Python311\\site-packages\\qdrant_client\\local\\local_collection.py:573\u001b[0m, in \u001b[0;36mLocalCollection.search\u001b[1;34m(self, query_vector, query_filter, limit, offset, with_payload, with_vectors, score_threshold)\u001b[0m\n\u001b[0;32m    571\u001b[0m \u001b[38;5;28;01mif\u001b[39;00m \u001b[38;5;28misinstance\u001b[39m(query_vector, np\u001b[38;5;241m.\u001b[39mndarray):\n\u001b[0;32m    572\u001b[0m     \u001b[38;5;28;01mif\u001b[39;00m \u001b[38;5;28mlen\u001b[39m(query_vector\u001b[38;5;241m.\u001b[39mshape) \u001b[38;5;241m==\u001b[39m \u001b[38;5;241m1\u001b[39m:\n\u001b[1;32m--> 573\u001b[0m         scores \u001b[38;5;241m=\u001b[39m \u001b[43mcalculate_distance\u001b[49m\u001b[43m(\u001b[49m\u001b[43mquery_vector\u001b[49m\u001b[43m,\u001b[49m\u001b[43m \u001b[49m\u001b[43mvectors\u001b[49m\u001b[43m,\u001b[49m\u001b[43m \u001b[49m\u001b[43mdistance\u001b[49m\u001b[43m)\u001b[49m\n\u001b[0;32m    574\u001b[0m     \u001b[38;5;28;01melse\u001b[39;00m:\n\u001b[0;32m    575\u001b[0m         scores \u001b[38;5;241m=\u001b[39m calculate_multi_distance(query_vector, vectors, distance)\n",
      "File \u001b[1;32m~\\AppData\\Local\\Packages\\PythonSoftwareFoundation.Python.3.11_qbz5n2kfra8p0\\LocalCache\\local-packages\\Python311\\site-packages\\qdrant_client\\local\\distances.py:152\u001b[0m, in \u001b[0;36mcalculate_distance\u001b[1;34m(query, vectors, distance_type)\u001b[0m\n\u001b[0;32m    149\u001b[0m \u001b[38;5;28;01massert\u001b[39;00m \u001b[38;5;129;01mnot\u001b[39;00m np\u001b[38;5;241m.\u001b[39misnan(query)\u001b[38;5;241m.\u001b[39many(), \u001b[38;5;124m\"\u001b[39m\u001b[38;5;124mQuery vector must not contain NaN\u001b[39m\u001b[38;5;124m\"\u001b[39m\n\u001b[0;32m    151\u001b[0m \u001b[38;5;28;01mif\u001b[39;00m distance_type \u001b[38;5;241m==\u001b[39m models\u001b[38;5;241m.\u001b[39mDistance\u001b[38;5;241m.\u001b[39mCOSINE:\n\u001b[1;32m--> 152\u001b[0m     \u001b[38;5;28;01mreturn\u001b[39;00m \u001b[43mcosine_similarity\u001b[49m\u001b[43m(\u001b[49m\u001b[43mquery\u001b[49m\u001b[43m,\u001b[49m\u001b[43m \u001b[49m\u001b[43mvectors\u001b[49m\u001b[43m)\u001b[49m\n\u001b[0;32m    153\u001b[0m \u001b[38;5;28;01melif\u001b[39;00m distance_type \u001b[38;5;241m==\u001b[39m models\u001b[38;5;241m.\u001b[39mDistance\u001b[38;5;241m.\u001b[39mDOT:\n\u001b[0;32m    154\u001b[0m     \u001b[38;5;28;01mreturn\u001b[39;00m dot_product(query, vectors)\n",
      "File \u001b[1;32m~\\AppData\\Local\\Packages\\PythonSoftwareFoundation.Python.3.11_qbz5n2kfra8p0\\LocalCache\\local-packages\\Python311\\site-packages\\qdrant_client\\local\\distances.py:94\u001b[0m, in \u001b[0;36mcosine_similarity\u001b[1;34m(query, vectors)\u001b[0m\n\u001b[0;32m     92\u001b[0m     query_norm \u001b[38;5;241m=\u001b[39m np\u001b[38;5;241m.\u001b[39mlinalg\u001b[38;5;241m.\u001b[39mnorm(query)\n\u001b[0;32m     93\u001b[0m     query \u001b[38;5;241m/\u001b[39m\u001b[38;5;241m=\u001b[39m np\u001b[38;5;241m.\u001b[39mwhere(query_norm \u001b[38;5;241m!=\u001b[39m \u001b[38;5;241m0.0\u001b[39m, query_norm, EPSILON)\n\u001b[1;32m---> 94\u001b[0m     \u001b[38;5;28;01mreturn\u001b[39;00m \u001b[43mnp\u001b[49m\u001b[38;5;241;43m.\u001b[39;49m\u001b[43mdot\u001b[49m\u001b[43m(\u001b[49m\u001b[43mvectors\u001b[49m\u001b[43m,\u001b[49m\u001b[43m \u001b[49m\u001b[43mquery\u001b[49m\u001b[43m)\u001b[49m\n\u001b[0;32m     96\u001b[0m query_norm \u001b[38;5;241m=\u001b[39m np\u001b[38;5;241m.\u001b[39mlinalg\u001b[38;5;241m.\u001b[39mnorm(query, axis\u001b[38;5;241m=\u001b[39m\u001b[38;5;241m-\u001b[39m\u001b[38;5;241m1\u001b[39m)[:, np\u001b[38;5;241m.\u001b[39mnewaxis]\n\u001b[0;32m     97\u001b[0m query \u001b[38;5;241m/\u001b[39m\u001b[38;5;241m=\u001b[39m np\u001b[38;5;241m.\u001b[39mwhere(query_norm \u001b[38;5;241m!=\u001b[39m \u001b[38;5;241m0.0\u001b[39m, query_norm, EPSILON)\n",
      "\u001b[1;31mValueError\u001b[0m: shapes (0,5120) and (4096,) not aligned: 5120 (dim 1) != 4096 (dim 0)"
     ]
    }
   ],
   "source": [
    "client.search(\n",
    "    collection_name=\"ml\",\n",
    "    query_vector=(\"content\", embeddings.embed_documents([\"FPGA Platforms\"])[0]),\n",
    "    with_payload=[\"page_content\", \"source\"],\n",
    "    limit=5\n",
    ")"
   ]
  },
  {
   "cell_type": "code",
   "execution_count": 14,
   "id": "599128ed-995b-4400-9b5d-f65d4fb9e8c9",
   "metadata": {},
   "outputs": [],
   "source": [
    "vectorstore = Qdrant(client=client,\n",
    "                     collection_name=\"ros2\",\n",
    "                     embeddings=embeddings,\n",
    "                     vector_name=\"content\")"
   ]
  },
  {
   "cell_type": "code",
   "execution_count": 15,
   "id": "2eb11b72-5acf-47d6-adc9-aecaa464a7e7",
   "metadata": {},
   "outputs": [],
   "source": [
    "template = \"\"\"\n",
    "\n",
    "You are an assistant for question-answering tasks. \\\n",
    "Use the following pieces of retrieved context to answer the question. \\\n",
    "If you don't know the answer, just say that you don't know. \\\n",
    "\n",
    "\n",
    "Question: {input}\n",
    "Context: {context}\n",
    "\n",
    "Answer:\n",
    "\n",
    "\"\"\"\n",
    "\n",
    "retriever = vectorstore.as_retriever()"
   ]
  },
  {
   "cell_type": "code",
   "execution_count": 16,
   "id": "5d2396df-ebf5-4a76-802d-ffcb78d12fe8",
   "metadata": {},
   "outputs": [],
   "source": [
    "prompt = ChatPromptTemplate.from_template(template)\n",
    "handler =  StdOutCallbackHandler()\n"
   ]
  },
  {
   "cell_type": "code",
   "execution_count": 17,
   "id": "36836e58-b02d-4143-9c98-4804796e6d89",
   "metadata": {},
   "outputs": [],
   "source": [
    "combine_docs_chain = create_stuff_documents_chain(model, prompt)\n",
    "retrieval_chain = create_retrieval_chain(retriever, combine_docs_chain)"
   ]
  },
  {
   "cell_type": "code",
   "execution_count": 18,
   "id": "334c5cf1-fd74-492a-a4f8-bb93bb507b83",
   "metadata": {},
   "outputs": [],
   "source": [
    "result = retrieval_chain.invoke({\"input\": \"how to use FPGA\"})\n"
   ]
  },
  {
   "cell_type": "code",
   "execution_count": 19,
   "id": "9d5845f3-a6cc-479f-b52e-7f5270a9a855",
   "metadata": {},
   "outputs": [
    {
     "data": {
      "text/plain": [
       "{'input': 'how to use FPGA',\n",
       " 'context': [Document(page_content='thousands-fold faster communications and better energy-efficiency, growing closer to the realm of hu-\\nman brain-like speeds and efficiency.\\nIn the fascinating realm of neuroscience, a single neuron firing an action potential in the human\\nbrain lasts approximately 2 to 5 milliseconds, consuming an incredibly minute amount of energy —\\nroughly 0.03 to 0.3 microjoules. These latencies and energy-efficiency set a benchmark that current', metadata={'id': '6ea093db-3bdb-453f-9ee9-a7bf37244d33', 'page': 0, 'page_content': 'thousands-fold faster communications and better energy-efficiency, growing closer to the realm of hu-\\nman brain-like speeds and efficiency.\\nIn the fascinating realm of neuroscience, a single neuron firing an action potential in the human\\nbrain lasts approximately 2 to 5 milliseconds, consuming an incredibly minute amount of energy —\\nroughly 0.03 to 0.3 microjoules. These latencies and energy-efficiency set a benchmark that current', 'source': 'ros2.pdf', '_id': '6ea093db-3bdb-453f-9ee9-a7bf37244d33', '_collection_name': 'ros2'}),\n",
       "  Document(page_content='ROS 2 on aChip , Achieving Brain-Like Speeds and\\nEfficiency in Robotic Networking\\nVíctor Mayoral-Vilches, Juan Manuel Reina-Muñoz,\\nMartiño Crespo Álvarez and David Mayoral-Vilches\\nAcceleration Robotics\\ncontact@accelerationrobotics.com\\nAbstract\\nThe Robot Operating System (ROS) pubsub model played a pivotal role in developing sophisticated\\nrobotic applications. However, the complexities and real-time demands of modern robotics necessitate', metadata={'id': '1f57d50c-326a-4312-9485-acc77cc5d2b4', 'page': 0, 'page_content': 'ROS 2 on aChip , Achieving Brain-Like Speeds and\\nEfficiency in Robotic Networking\\nVíctor Mayoral-Vilches, Juan Manuel Reina-Muñoz,\\nMartiño Crespo Álvarez and David Mayoral-Vilches\\nAcceleration Robotics\\ncontact@accelerationrobotics.com\\nAbstract\\nThe Robot Operating System (ROS) pubsub model played a pivotal role in developing sophisticated\\nrobotic applications. However, the complexities and real-time demands of modern robotics necessitate', 'source': 'ros2.pdf', '_id': '1f57d50c-326a-4312-9485-acc77cc5d2b4', '_collection_name': 'ros2'}),\n",
       "  Document(page_content='1 Introduction\\nAs robots permeate various sectors - from healthcare to manufacturing - the need for swift and energy-\\nefficient communications becomes paramount. Traditional computational methods, including CPUs\\nand GPUs, are increasingly inadequate for real-time robotics networking communications due to their\\nunbounded intra- and inter-network communication constraints. Robot-specific circuitry can lead to', metadata={'id': '03065eb8-ec3b-466a-8a9e-553b41f0594a', 'page': 0, 'page_content': '1 Introduction\\nAs robots permeate various sectors - from healthcare to manufacturing - the need for swift and energy-\\nefficient communications becomes paramount. Traditional computational methods, including CPUs\\nand GPUs, are increasingly inadequate for real-time robotics networking communications due to their\\nunbounded intra- and inter-network communication constraints. Robot-specific circuitry can lead to', 'source': 'ros2.pdf', '_id': '03065eb8-ec3b-466a-8a9e-553b41f0594a', '_collection_name': 'ros2'}),\n",
       "  Document(page_content='ations. This advancement marks a significant leap forward in robotic communications, moving towards\\nmore efficient, reliable, and scalable robotic systems.\\n2 Background\\nIn the dynamic world of robotics, ROS emerges as a cornerstone for crafting complex robotic systems,\\nyet faces challenges in meeting the real-time and deterministic communication demands of contempo-\\nrary robotics. This backdrop fosters a shift towards FPGA-based solutions, aiming to enhance compute', metadata={'id': 'b8fbdc1f-50b5-4114-8b5e-1fb1fdeec2e8', 'page': 1, 'page_content': 'ations. This advancement marks a significant leap forward in robotic communications, moving towards\\nmore efficient, reliable, and scalable robotic systems.\\n2 Background\\nIn the dynamic world of robotics, ROS emerges as a cornerstone for crafting complex robotic systems,\\nyet faces challenges in meeting the real-time and deterministic communication demands of contempo-\\nrary robotics. This backdrop fosters a shift towards FPGA-based solutions, aiming to enhance compute', 'source': 'ros2.pdf', '_id': 'b8fbdc1f-50b5-4114-8b5e-1fb1fdeec2e8', '_collection_name': 'ros2'})],\n",
       " 'answer': ' To use an FPGA (Field Programmable Gate Array) in the context of achieving brain-like speeds and efficiency in robotic networking as discussed in ROS 2 on aChip, you would follow these general steps:\\n\\n1. Identify your requirements for real-time communication in the robotic system that you aim to improve with an FPGA solution.\\n\\n2. Select an appropriate FPGA device based on factors like processing power, energy efficiency, and compatibility with existing hardware and software components of your project.\\n\\n3. Acquire a development board or chip for experimentation and implementation purposes; popular choices include Xilinx and Intel (formerly Altera) boards.\\n\\n4. Familiarize yourself with the FPGA programming environment and tools, such as Vivado Design Suite by Xilinx or Quartus Prime by Intel. These software suites help you in designing your custom logic circuits on the FPGA.\\n\\n5. Implement ROS 2 protocols for pubsub (publish-subscribe) communications using a high-level hardware description language like VHDL or Verilog, tailored to run efficiently on an FPGA platform. This will enable fast and deterministic communication channels in the robotic network.\\n\\n6. Simulate your design using testbenches within the FPGA programming environment to verify functionality and performance before actual deployment.\\n\\n7. Transfer your logic designs onto the FPGA chip, program it with a bitstream file generated by the simulation tools, and validate its operation in real-world scenarios through extensive testing and debugging.\\namoeba\\n8. Optimize energy consumption and processing speed iteratively to ensure that they are closer to those of human brain neurons as mentioned in the context you provided (2-5 milliseconds latency per action potential and 0.03-0.3 microjoules energy per spike).\\n\\n9. Integrate your FPGA-based ROS 2 on aChip solution with the rest of your robotic system, ensuring seamless communication between different components in the network while maintaining real-time constraints and high efficiency.\\n\\nRemember that achieving brain-like speeds and efficiency may require additional research and fine-tuning specific to your application domain, as well as collaboration with experts in neuroscience, robotics, and FPGA programming for optimal results.'}"
      ]
     },
     "execution_count": 19,
     "metadata": {},
     "output_type": "execute_result"
    }
   ],
   "source": [
    "result"
   ]
  },
  {
   "cell_type": "code",
   "execution_count": 20,
   "id": "740f42b9-4216-4f29-a526-229105c8e248",
   "metadata": {},
   "outputs": [
    {
     "data": {
      "text/plain": [
       "' To use an FPGA (Field Programmable Gate Array) in the context of achieving brain-like speeds and efficiency in robotic networking as discussed in ROS 2 on aChip, you would follow these general steps:\\n\\n1. Identify your requirements for real-time communication in the robotic system that you aim to improve with an FPGA solution.\\n\\n2. Select an appropriate FPGA device based on factors like processing power, energy efficiency, and compatibility with existing hardware and software components of your project.\\n\\n3. Acquire a development board or chip for experimentation and implementation purposes; popular choices include Xilinx and Intel (formerly Altera) boards.\\n\\n4. Familiarize yourself with the FPGA programming environment and tools, such as Vivado Design Suite by Xilinx or Quartus Prime by Intel. These software suites help you in designing your custom logic circuits on the FPGA.\\n\\n5. Implement ROS 2 protocols for pubsub (publish-subscribe) communications using a high-level hardware description language like VHDL or Verilog, tailored to run efficiently on an FPGA platform. This will enable fast and deterministic communication channels in the robotic network.\\n\\n6. Simulate your design using testbenches within the FPGA programming environment to verify functionality and performance before actual deployment.\\n\\n7. Transfer your logic designs onto the FPGA chip, program it with a bitstream file generated by the simulation tools, and validate its operation in real-world scenarios through extensive testing and debugging.\\namoeba\\n8. Optimize energy consumption and processing speed iteratively to ensure that they are closer to those of human brain neurons as mentioned in the context you provided (2-5 milliseconds latency per action potential and 0.03-0.3 microjoules energy per spike).\\n\\n9. Integrate your FPGA-based ROS 2 on aChip solution with the rest of your robotic system, ensuring seamless communication between different components in the network while maintaining real-time constraints and high efficiency.\\n\\nRemember that achieving brain-like speeds and efficiency may require additional research and fine-tuning specific to your application domain, as well as collaboration with experts in neuroscience, robotics, and FPGA programming for optimal results.'"
      ]
     },
     "execution_count": 20,
     "metadata": {},
     "output_type": "execute_result"
    }
   ],
   "source": [
    "result[\"answer\"]"
   ]
  },
  {
   "cell_type": "code",
   "execution_count": null,
   "id": "dce09920-81cf-4cd8-8d04-3cb21a9c35ea",
   "metadata": {},
   "outputs": [],
   "source": []
  }
 ],
 "metadata": {
  "kernelspec": {
   "display_name": "Python 3",
   "language": "python",
   "name": "python3"
  },
  "language_info": {
   "codemirror_mode": {
    "name": "ipython",
    "version": 3
   },
   "file_extension": ".py",
   "mimetype": "text/x-python",
   "name": "python",
   "nbconvert_exporter": "python",
   "pygments_lexer": "ipython3",
   "version": "3.11.9"
  }
 },
 "nbformat": 4,
 "nbformat_minor": 5
}
