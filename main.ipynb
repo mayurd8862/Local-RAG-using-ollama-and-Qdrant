{
 "cells": [
  {
   "cell_type": "code",
   "execution_count": 2,
   "metadata": {},
   "outputs": [],
   "source": [
    "from langchain_qdrant import QdrantVectorStore\n",
    "from qdrant_client import QdrantClient\n",
    "from qdrant_client.http.models import Distance, VectorParams\n",
    "from langchain_community.embeddings import SentenceTransformerEmbeddings"
   ]
  },
  {
   "cell_type": "code",
   "execution_count": 3,
   "metadata": {},
   "outputs": [
    {
     "data": {
      "text/plain": [
       "False"
      ]
     },
     "execution_count": 3,
     "metadata": {},
     "output_type": "execute_result"
    }
   ],
   "source": [
    "import os\n",
    "import qdrant_client\n",
    "from langchain_community.document_loaders import PyPDFLoader\n",
    "from langchain_community.embeddings import SentenceTransformerEmbeddings\n",
    "from langchain_groq import ChatGroq\n",
    "from dotenv import load_dotenv\n",
    "load_dotenv()"
   ]
  },
  {
   "cell_type": "code",
   "execution_count": 4,
   "metadata": {},
   "outputs": [
    {
     "name": "stderr",
     "output_type": "stream",
     "text": [
      "C:\\Users\\mayur\\AppData\\Local\\Temp\\ipykernel_12900\\381066254.py:1: LangChainDeprecationWarning: The class `HuggingFaceEmbeddings` was deprecated in LangChain 0.2.2 and will be removed in 1.0. An updated version of the class exists in the :class:`~langchain-huggingface package and should be used instead. To use it run `pip install -U :class:`~langchain-huggingface` and import as `from :class:`~langchain_huggingface import HuggingFaceEmbeddings``.\n",
      "  embeddings = SentenceTransformerEmbeddings(model_name=\"all-MiniLM-L6-v2\")\n",
      "C:\\Users\\mayur\\AppData\\Local\\Packages\\PythonSoftwareFoundation.Python.3.11_qbz5n2kfra8p0\\LocalCache\\local-packages\\Python311\\site-packages\\tqdm\\auto.py:21: TqdmWarning: IProgress not found. Please update jupyter and ipywidgets. See https://ipywidgets.readthedocs.io/en/stable/user_install.html\n",
      "  from .autonotebook import tqdm as notebook_tqdm\n"
     ]
    },
    {
     "name": "stdout",
     "output_type": "stream",
     "text": [
      "✅ Qdrant on-disk setup completed!\n"
     ]
    }
   ],
   "source": [
    "embeddings = SentenceTransformerEmbeddings(model_name=\"all-MiniLM-L6-v2\")\n",
    "client = QdrantClient(\":memory:\")\n",
    "\n",
    "client.create_collection(\n",
    "    collection_name=\"rag\",\n",
    "    vectors_config=VectorParams(size=384, distance=Distance.COSINE),\n",
    ")\n",
    "\n",
    "vector_store = QdrantVectorStore(\n",
    "    client=client,\n",
    "    collection_name=\"rag\",\n",
    "    embedding=embeddings,\n",
    ")\n",
    "\n",
    "print(\"✅ Qdrant on-disk setup completed!\")\n"
   ]
  },
  {
   "cell_type": "code",
   "execution_count": 5,
   "metadata": {},
   "outputs": [],
   "source": [
    "\n",
    "chunks = PyPDFLoader(\"./knowledge/ML.pdf\").load_and_split()"
   ]
  },
  {
   "cell_type": "code",
   "execution_count": 6,
   "metadata": {},
   "outputs": [
    {
     "name": "stdout",
     "output_type": "stream",
     "text": [
      "✅ Documents added to Qdrant!\n"
     ]
    }
   ],
   "source": [
    "from langchain_core.documents import Document\n",
    "from uuid import uuid4\n",
    "\n",
    "uuids = [str(uuid4()) for _ in range(len(chunks))]\n",
    "vector_store.add_documents(documents=chunks, ids=uuids)\n",
    "\n",
    "print(\"✅ Documents added to Qdrant!\")\n"
   ]
  },
  {
   "cell_type": "code",
   "execution_count": 7,
   "metadata": {},
   "outputs": [
    {
     "name": "stdout",
     "output_type": "stream",
     "text": [
      "\n",
      "🔍 Search Results:\n",
      "📄 1. Introduction to Machine Learning \n",
      "1.1 Definition and importance of ML : Machine learning is a branch of artificial \n",
      "intelligence (AI) and computer science which focuses on the use of data and algorithms \n",
      "to imitate the way that humans learn, gradually improving its accuracy. \n",
      "1.2 Types of machine learning:  \n",
      "a) Supervised Learning \n",
      "Supervised learning is a type of machine learning where the algorithm is trained on labeled \n",
      "data. This means that each training example is paired with an output label. The goal is for the \n",
      "model to learn to map inputs to the correct outputs. \n",
      "• Common Algorithms: Linear Regression, Logistic Regression, Decision Trees, \n",
      "Random Forests, Support Vector Machines (SVM), K-Nearest Neighbors (KNN), \n",
      "Neural Networks. \n",
      " \n",
      "b) Unsupervised Learning \n",
      "Unsupervised learning is a type of machine learning where the algorithm is trained on \n",
      "unlabeled data. The goal is to identify patterns and structures within the data. \n",
      "• Common Algorithms: K-Means Clustering, Hierarchical Clustering, DBSCAN, \n",
      "Principal Component Analysis (PCA), t-SNE, Autoencoders. \n",
      " \n",
      "c) Reinforcement Learning \n",
      "Reinforcement learning is a type of machine learning where an agent learns to make \n",
      "decisions by performing actions in an environment to maximize some notion of cumulative \n",
      "reward. It basically works on the mechanism of rewards and punishments \n",
      "• Common Algorithms: Q-Learning, Deep Q-Networks (DQN), Policy Gradients, Actor-\n",
      "Critic methods. [{'source': './knowledge/ML.pdf', 'page': 4, '_id': '09e63c74-64bb-4f20-a3ab-9110bea356f0', '_collection_name': 'rag'}]\n",
      "📄 2. Supervised Learning \n",
      "2.1 Linear Regression  \n",
      "• Linear Regression is supervised learning technique. \n",
      "• It models the relationship between a dependent variable (target) and one or \n",
      "more independent variables (predictors) by fitting a linear equation to the \n",
      "observed data. [{'source': './knowledge/ML.pdf', 'page': 5, '_id': '7cb2b4e4-9dc5-4e46-9bd3-cb81f7d20d9d', '_collection_name': 'rag'}]\n"
     ]
    }
   ],
   "source": [
    "query = \"What is Machinelearning?\"\n",
    "results = vector_store.similarity_search(query, k=2)\n",
    "\n",
    "print(\"\\n🔍 Search Results:\")\n",
    "for res in results:\n",
    "    print(f\"📄 {res.page_content} [{res.metadata}]\")\n"
   ]
  },
  {
   "cell_type": "code",
   "execution_count": 16,
   "metadata": {},
   "outputs": [],
   "source": [
    "def response_generator(vectordb, query, llm):\n",
    "    context = vectordb.similarity_search(query, k=2)\n",
    "\n",
    "    # for res in results:\n",
    "    #     print(f\"📄 {res.page_content} [{res.metadata}]\")\n",
    "    template = f\"\"\"\n",
    "    You are an intelligent assistant designed to provide accurate and concise answers based on the context provided. \n",
    "    Follow these rules strictly:\n",
    "    1. Use ONLY the information provided in the context to answer the question.\n",
    "    2. If the context does not contain enough information to answer the question, say \"I don't know.\"\n",
    "    3. Do not make up or assume any information outside of the context.\n",
    "    4. Keep your answer concise and to the point (maximum 3 sentences).\n",
    "\n",
    "    Context:\n",
    "    {context}\n",
    "\n",
    "    Question:\n",
    "    {query}\n",
    "\n",
    "    Helpful Answer:\n",
    "    \"\"\"\n",
    "    ans = llm.invoke(template)\n",
    "    return ans.content"
   ]
  },
  {
   "cell_type": "code",
   "execution_count": 17,
   "metadata": {},
   "outputs": [],
   "source": [
    "from langchain_ollama import ChatOllama\n",
    "llm = ChatOllama(\n",
    "    model = \"mistral\",\n",
    "    temperature = 0,\n",
    "    num_predict = 256,\n",
    "    # other params ...\n",
    ")"
   ]
  },
  {
   "cell_type": "code",
   "execution_count": 18,
   "metadata": {},
   "outputs": [
    {
     "data": {
      "text/plain": [
       "' Machine learning is a branch of artificial intelligence that focuses on using data and algorithms to imitate human learning, gradually improving its accuracy.'"
      ]
     },
     "execution_count": 18,
     "metadata": {},
     "output_type": "execute_result"
    }
   ],
   "source": [
    "response_generator(vector_store, \"What is Machinelearning?\", llm)"
   ]
  },
  {
   "cell_type": "code",
   "execution_count": null,
   "metadata": {},
   "outputs": [],
   "source": []
  },
  {
   "cell_type": "code",
   "execution_count": null,
   "metadata": {},
   "outputs": [],
   "source": []
  }
 ],
 "metadata": {
  "kernelspec": {
   "display_name": "Python 3",
   "language": "python",
   "name": "python3"
  },
  "language_info": {
   "codemirror_mode": {
    "name": "ipython",
    "version": 3
   },
   "file_extension": ".py",
   "mimetype": "text/x-python",
   "name": "python",
   "nbconvert_exporter": "python",
   "pygments_lexer": "ipython3",
   "version": "3.11.9"
  }
 },
 "nbformat": 4,
 "nbformat_minor": 2
}
